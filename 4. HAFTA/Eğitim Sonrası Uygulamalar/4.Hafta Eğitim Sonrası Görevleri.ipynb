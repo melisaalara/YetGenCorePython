{
 "cells": [
  {
   "cell_type": "markdown",
   "metadata": {},
   "source": [
    "# Problem 1\n",
    "`ogrenciler` adında bir sözlük oluşturunuz. Kullanıcıdan döngü yardımıyla 3 öğrenci için veri girmesini isteyerek öğrencilerin sırasıyla okul numarası, isim, soy isim, telefon numarası ve doğum tarihi bilgilerini alınız. Aldığınız öğrenci bilgilerini yine aynı döngü yardımıyla `ogrenciler` adındaki sözlükte saklayınız. Daha sonra öğrenci bilgilerinin bulunduğu sözlük yapısını ekrana bastırınız.\n",
    "\n"
   ]
  },
  {
   "cell_type": "code",
   "execution_count": 1,
   "metadata": {},
   "outputs": [
    {
     "name": "stdout",
     "output_type": "stream",
     "text": [
      "1. Öğrenci bilgilerini giriniz:\n",
      "2. Öğrenci bilgilerini giriniz:\n",
      "3. Öğrenci bilgilerini giriniz:\n",
      "\n",
      "Öğrenciler Sözlüğü:\n",
      "{'12': {'isim': 'Melisa', 'soyIsim': 'Alara', 'telefonNo': '0536', 'dogumTarihi': '25-08-2004'}, '13': {'isim': 'Halit', 'soyIsim': 'Özüberk', 'telefonNo': '0537', 'dogumTarihi': '09-12-2009'}, '35': {'isim': 'Mehmet', 'soyIsim': 'Özüberk', 'telefonNo': '0538', 'dogumTarihi': '27-10-1978'}}\n"
     ]
    }
   ],
   "source": [
    "\n",
    "# 1.Problemin Çözümünü Buraya Yazınız\n",
    "ogrenciler = {}\n",
    "\n",
    "for i in range(3):\n",
    "    print(f\"{i+1}. Öğrenci bilgilerini giriniz:\")\n",
    "    \n",
    "    okulNo = input(\"Okul Numarası: \")\n",
    "    isim = input(\"İsim: \")\n",
    "    soyIsim = input(\"Soy İsim: \")\n",
    "    telefonNo = input(\"Telefon Numarası: \")\n",
    "    dogumTarihi = input(\"Doğum Tarihi: \")\n",
    "    \n",
    "    ogrenciBilgileri = {\n",
    "        \"isim\": isim,\n",
    "        \"soyIsim\": soyIsim,\n",
    "        \"telefonNo\": telefonNo,\n",
    "        \"dogumTarihi\": dogumTarihi\n",
    "    }\n",
    "    \n",
    "    ogrenciler[okulNo] = ogrenciBilgileri\n",
    "\n",
    "print(\"\\nÖğrenciler Sözlüğü:\")\n",
    "print(ogrenciler)\n"
   ]
  },
  {
   "cell_type": "markdown",
   "metadata": {},
   "source": [
    "# Problem 2\n",
    "\n",
    "### a - Biraz ısınarak başlayalım!\n",
    "\n",
    "```\n",
    "numbers = [5,10,10,15,15,15,20,20,20,20]\n",
    "```\n",
    "\n",
    "Yukarıda `numbers` adında 10 elemanlı bir liste verilmiştir. Bu listenin her elemanını kontrol eden ve tekrar eden elemanları bir kez olacak şekilde başka bir listeye kopyalayan bir program yazınız. Son olarak oluşturduğunuz listeyi ekrana bastırınız.\n",
    "\n",
    "\n",
    "\n",
    "\n",
    "```\n",
    ">Output\n",
    "[5, 10, 15, 20]\n",
    "```\n"
   ]
  },
  {
   "cell_type": "code",
   "execution_count": 2,
   "metadata": {},
   "outputs": [
    {
     "name": "stdout",
     "output_type": "stream",
     "text": [
      "[5, 10, 15, 20]\n"
     ]
    }
   ],
   "source": [
    "# 2.Problemin a Şıkkının Çözümünü Buraya Yazınız\n",
    "numbers = [5, 10, 10, 15, 15, 15, 20, 20, 20, 20]\n",
    "\n",
    "uniqueNumbers = []\n",
    "\n",
    "for number in numbers:\n",
    "    if number not in uniqueNumbers:\n",
    "        uniqueNumbers.append(number)\n",
    "\n",
    "print(uniqueNumbers)\n"
   ]
  },
  {
   "cell_type": "markdown",
   "metadata": {},
   "source": [
    "### 🌶️ b) Hadi işi biraz daha zorlaştıralım! \n",
    "\n",
    "\n",
    "Şimdiyse senden `numbers` isimli listedeki tekrar eden elemanları `repeatNumbers` adındaki listeye; tekrar etmeyen elemanları `uniqueNumbers`adındaki listeye kopyalayan yazmanı ve listeleri ekrana bastırmanı bekliyoruz\n",
    "\n",
    "```\n",
    ">Output\n",
    "Tekrar Eden Elemanlar: [10, 10, 15, 15, 15, 20, 20, 20, 20]\n",
    "Tekrar Etmeyen Elemanlar: [5]\n",
    "```"
   ]
  },
  {
   "cell_type": "code",
   "execution_count": 3,
   "metadata": {},
   "outputs": [
    {
     "name": "stdout",
     "output_type": "stream",
     "text": [
      "Tekrar Eden Elemanlar: [10, 10, 15, 15, 15, 20, 20, 20, 20]\n",
      "Tekrar Etmeyen Elemanlar: [5]\n"
     ]
    }
   ],
   "source": [
    "# 2.Problemin b Şıkkının Çözümünü Buraya Yazınız\n",
    "numbers = [5, 10, 10, 15, 15, 15, 20, 20, 20, 20]\n",
    "\n",
    "repeatNumbers = []\n",
    "\n",
    "uniqueNumbers = []\n",
    "\n",
    "counts = {}\n",
    "\n",
    "for number in numbers:\n",
    "    if number in counts:\n",
    "        counts[number] += 1\n",
    "    else:\n",
    "        counts[number] = 1\n",
    "\n",
    "for number, count in counts.items():\n",
    "    if count > 1:\n",
    "        repeatNumbers.extend([number] * count)\n",
    "    else:\n",
    "        uniqueNumbers.append(number)\n",
    "\n",
    "print(\"Tekrar Eden Elemanlar:\", repeatNumbers)\n",
    "print(\"Tekrar Etmeyen Elemanlar:\", uniqueNumbers)\n",
    "\n"
   ]
  },
  {
   "cell_type": "markdown",
   "metadata": {},
   "source": [
    "# Problem 3\n",
    "sn1 = {1,2,3,4,5}\n",
    "\n",
    "sn2 = {4,5,6,7,8}\n",
    "\n",
    " Verilen 2 adet küme için kesişimlerini, farklarını ve birleşimlerini bulunuz. "
   ]
  },
  {
   "cell_type": "code",
   "execution_count": 4,
   "metadata": {},
   "outputs": [
    {
     "name": "stdout",
     "output_type": "stream",
     "text": [
      "Kesişim: {4, 5}\n",
      "sn1 - sn2 Farkı: {1, 2, 3}\n",
      "sn2 - sn1 Farkı: {8, 6, 7}\n",
      "Birleşim: {1, 2, 3, 4, 5, 6, 7, 8}\n"
     ]
    }
   ],
   "source": [
    "# 3.Problemin Çözümünü Buraya Yazınız\n",
    "sn1 = {1, 2, 3, 4, 5}\n",
    "sn2 = {4, 5, 6, 7, 8}\n",
    "\n",
    "kesisim = sn1 & sn2\n",
    "\n",
    "farksn1_sn2 = sn1 - sn2\n",
    "farksn2_sn1 = sn2 - sn1\n",
    "\n",
    "birlesim = sn1 | sn2\n",
    "\n",
    "# Sonuçları ekrana bastırma\n",
    "print(\"Kesişim:\", kesisim)\n",
    "print(\"sn1 - sn2 Farkı:\",farksn1_sn2 )\n",
    "print(\"sn2 - sn1 Farkı:\", farksn2_sn1)\n",
    "print(\"Birleşim:\", birlesim)\n"
   ]
  },
  {
   "cell_type": "markdown",
   "metadata": {},
   "source": [
    "# Problem 4\n",
    "\n",
    "Buradaki işlemlerimizin tamamı stringler içindir. Aşağıda verilecek olan metodlar için kendinizin örnek yaratması gerekmektedir. \n",
    "\n",
    "Örneğin `upper` için `string` değişkeni oluştururken` k = \"BAC\"` şeklinde oluşturmayınız. Bunun yerine k değişkenini `k = \"bac`\" şeklinde oluşturmanız `upper` metodundaki değişimi görebilmeniz için daha iyi olacaktır.\n",
    "\n",
    "Bütün metodlardaki değişimin gözle görülür şekilde değişimi beklenmektedir.\n",
    "\n",
    "\n",
    "1- capitalize(), lower(), upper(), swapcase(), title(), replace()\n",
    "\n",
    "2- endswith(), startswith(), find(), index(), count()\n",
    "\n",
    "3- split(), strip(), join(), islower(), isalpha(), isdigit()\n",
    "\n",
    "\n",
    "Yukarıdaki `string` metodlarındaki değişimleri görebildiğimiz bir program yazınız.\n"
   ]
  },
  {
   "cell_type": "code",
   "execution_count": 10,
   "metadata": {},
   "outputs": [
    {
     "name": "stdout",
     "output_type": "stream",
     "text": [
      "Orijinal String: yetkin gençler\n",
      "capitalize(): Yetkin gençler\n",
      "lower(): yetkin gençler\n",
      "upper(): YETKIN GENÇLER\n",
      "swapcase(): YETKIN GENÇLER\n",
      "title(): Yetkin Gençler\n",
      "replace('yetkin gençler'): Yet Gen\n",
      "Orijinal String: yetkin gençler\n",
      "endswith('gençler'): True\n",
      "startswith('yetkin'): True\n",
      "find('i'): 4\n",
      "index('i'): 4\n",
      "count('e'): 3\n",
      "Orijinal String: '   yetkin gençler   '\n",
      "split(): ['yetkin', 'gençler']\n",
      "strip(): 'yetkin gençler'\n",
      "join(['yetkin', 'gençler']): yetkin-gençler\n",
      "islower() (for 'yetgen'): True\n",
      "isalpha() (for 'yetgen'): True\n",
      "isdigit() (for '112233'): True\n"
     ]
    }
   ],
   "source": [
    "# 4.Problemin Çözümünü Buraya Yazınız\n",
    "k = \"yetkin gençler\"\n",
    "\n",
    "print(\"Orijinal String:\", k)\n",
    "print(\"capitalize():\", k.capitalize())\n",
    "print(\"lower():\", k.lower())\n",
    "print(\"upper():\", k.upper())\n",
    "print(\"swapcase():\", k.swapcase())\n",
    "print(\"title():\", k.title())\n",
    "print(\"replace('yetkin gençler'):\", k.replace(\"yetkin gençler\", \"Yet Gen\"))\n",
    "\n",
    "\n",
    "print(\"Orijinal String:\", k)\n",
    "print(\"endswith('gençler'):\", k.endswith(\"gençler\"))\n",
    "print(\"startswith('yetkin'):\", k.startswith(\"yetkin\"))\n",
    "print(\"find('i'):\", k.find(\"i\"))\n",
    "print(\"index('i'):\", k.index(\"i\"))\n",
    "print(\"count('e'):\", k.count(\"e\"))\n",
    "\n",
    "\n",
    "k = \"   yetkin gençler   \" \n",
    "print(\"Orijinal String:\", f\"'{k}'\")\n",
    "print(\"split():\", k.split())\n",
    "print(\"strip():\", f\"'{k.strip()}'\")\n",
    "joinedString = \"-\".join(k.split())\n",
    "print(\"join(['yetkin', 'gençler']):\", joinedString)\n",
    "k2 = \"yetgen\"\n",
    "print(\"islower() (for 'yetgen'):\", k2.islower())\n",
    "print(\"isalpha() (for 'yetgen'):\", k2.isalpha())\n",
    "k3 = \"112233\"\n",
    "print(\"isdigit() (for '112233'):\", k3.isdigit())\n"
   ]
  }
 ],
 "metadata": {
  "kernelspec": {
   "display_name": "Python 3.10.5 64-bit",
   "language": "python",
   "name": "python3"
  },
  "language_info": {
   "codemirror_mode": {
    "name": "ipython",
    "version": 3
   },
   "file_extension": ".py",
   "mimetype": "text/x-python",
   "name": "python",
   "nbconvert_exporter": "python",
   "pygments_lexer": "ipython3",
   "version": "3.12.3"
  },
  "orig_nbformat": 4,
  "vscode": {
   "interpreter": {
    "hash": "5026d2d6e7aaaaba093def813beadff083d8733e4a511af01735cbabd156995d"
   }
  }
 },
 "nbformat": 4,
 "nbformat_minor": 2
}

{
 "cells": [
  {
   "attachments": {},
   "cell_type": "markdown",
   "metadata": {},
   "source": [
    "# Problem 1 "
   ]
  },
  {
   "cell_type": "code",
   "execution_count": 5,
   "metadata": {},
   "outputs": [
    {
     "name": "stdout",
     "output_type": "stream",
     "text": [
      "Orijinal array: [5 4 3 2 1]\n",
      "Sıralanmış array: [1 2 3 4 5]\n"
     ]
    }
   ],
   "source": [
    "# 1 - numpy kütüphanesini import edin\n",
    "\n",
    "import numpy as np\n",
    "\n",
    "# 2 - 5 elemanlı bir numpy array oluşturun\n",
    "\n",
    "array = np.array([5,4,3,2,1])\n",
    "\n",
    "# 3 - Oluşturduğunuz arrayi küçükten büyüğe sıralayın.\n",
    "\n",
    "siralanmisArray=np.sort(array)\n",
    "\n",
    "print(\"Orijinal array:\", array)\n",
    "print(\"Sıralanmış array:\", siralanmisArray)\n"
   ]
  },
  {
   "attachments": {},
   "cell_type": "markdown",
   "metadata": {},
   "source": [
    "# Problem 2"
   ]
  },
  {
   "cell_type": "code",
   "execution_count": 9,
   "metadata": {},
   "outputs": [
    {
     "name": "stdout",
     "output_type": "stream",
     "text": [
      "Dizi1: [10 15 30 45 60]\n",
      "Dizi2: [ 5  6  7  8  9 10 11 12 13 14 15]\n",
      "Dizi3: [ 50  55  60  65  70  75  80  85  90  95 100]\n",
      "Dizi4: [0. 0. 0. 0. 0. 0. 0. 0. 0. 0.]\n",
      "Dizi5: [1. 1. 1. 1. 1. 1. 1. 1. 1. 1.]\n",
      "Dizi6: [  0.    25.25  50.5   75.75 101.  ]\n",
      "Dizi7: [28 11 24 29 28]\n",
      "Dizi8: [-0.84833536  0.93905874 -0.34140054  0.42114418 -0.69774388]\n",
      "Matris: [[13 24 37 23 27]\n",
      " [14 12 44 14 48]\n",
      " [14 19 33 23 16]]\n",
      "Satır Toplamları: [124 132 105]\n",
      "Sütun Toplamları: [ 41  55 114  60  91]\n",
      "En Büyük: 48\n",
      "En Küçük: 12\n",
      "Ortalama: 24.066666666666666\n",
      "En Büyük Değerin İndeksi: (np.int64(1), np.int64(4))\n",
      "Dizi13: [10 11 12]\n",
      "Ters Dizi13: [12 11 10]\n",
      "İlk Satır: [13 24 37 23 27]\n",
      "2. Satır 3. Sütun Elemanı: 44\n",
      "İlk Elemanlar: [13 14 14]\n",
      "Matrisin Karesi:\n",
      " [[ 169  576 1369  529  729]\n",
      " [ 196  144 1936  196 2304]\n",
      " [ 196  361 1089  529  256]]\n",
      "Pozitif Çift Sayılar: []\n"
     ]
    }
   ],
   "source": [
    "import numpy as ny\n",
    "\n",
    "# 1- (10,15,30,45,60) değerlerine sahip numpy dizisi oluşturunuz.\n",
    "\n",
    "dizi1=np.array([10,15,30,45,60])\n",
    "print(\"Dizi1:\", dizi1)\n",
    "\n",
    "# 2- (5-15) arasındaki sayılarla numpy dizisi oluşturunuz.\n",
    "\n",
    "dizi2=np.arange(5,16)\n",
    "print(\"Dizi2:\", dizi2)\n",
    "\n",
    "# 3- (50-100) arasında 5'er 5'er artarak numpy dizisi oluşturunuz.\n",
    "\n",
    "dizi3=np.arange(50,101,5)\n",
    "print(\"Dizi3:\", dizi3)\n",
    "\n",
    "# 4- 10 elemanlı sıfırlardan oluşan bir dizi oluşturunuz.\n",
    "\n",
    "dizi4=np.zeros(10)\n",
    "print(\"Dizi4:\", dizi4)\n",
    "\n",
    "# 5- 10 elemanlı birlerden oluşan bir dizi oluşturunuz.\n",
    "\n",
    "dizi5=np.ones(10)\n",
    "print(\"Dizi5:\", dizi5)\n",
    "\n",
    "# 6- (0-100) arasında eşit aralıklı 5 sayı üretin.\n",
    "\n",
    "dizi6=np.linspace(0,101,5)\n",
    "print(\"Dizi6:\", dizi6)\n",
    "\n",
    "# 7- (10-30) arasında rastgele 5 tane tamsayı üretin.\n",
    "\n",
    "dizi7=np.random.randint(10,31,5)\n",
    "print(\"Dizi7:\", dizi7)\n",
    "\n",
    "# 8- [-1 ile 1] arasında 10 adet sayı üretin.\n",
    "\n",
    "dizi8=np.random.uniform(-1,1,5) # unifrom ile float sayi\n",
    "print(\"Dizi8:\", dizi8)\n",
    "\n",
    "# 9- (3x5) boyutlarında (10-50) arasında rastgele bir matris oluşturunuz.\n",
    "\n",
    "matris= np.random.randint(10,51,(3,5))\n",
    "print(\"Matris:\", matris)\n",
    "\n",
    "# 10- Üretilen matrisin satır ve sütun sayıları toplamlarını hesaplayınız ?\n",
    "\n",
    "satirToplamlari = np.sum(matris, axis=1) #axis=1 demek, yatay eksen boyunca (satır bazında) toplamı hesapla demek\n",
    "sutunToplamlari = np.sum(matris, axis=0) #axis=0 demek, dikey eksen boyunca (sütun bazında) toplamı hesapla demek\n",
    "print(\"Satır Toplamları:\", satirToplamlari)\n",
    "print(\"Sütun Toplamları:\", sutunToplamlari)\n",
    "\n",
    "# 11- Üretilen matrisin en büyük, en küçük ve ortalaması nedir ?\n",
    "\n",
    "enBuyuk = np.max(matris)\n",
    "enKucuk = np.min(matris)\n",
    "ortalama = np.mean(matris)\n",
    "print(\"En Büyük:\", enBuyuk)\n",
    "print(\"En Küçük:\", enKucuk)\n",
    "print(\"Ortalama:\", ortalama)\n",
    "\n",
    "# 12- Üretilen matrisin en büyük değerinin indeksi kaçtır ?\n",
    "\n",
    "enBuyukIndeksi = np.unravel_index(np.argmax(matris), matris.shape)\n",
    "print(\"En Büyük Değerin İndeksi:\", enBuyukIndeksi)\n",
    "\n",
    "# 13- (10-20) arasındaki sayıları içeren dizinin ilk 3 elemanını seçiniz.\n",
    "\n",
    "dizi13 = np.arange(10, 21)[:3]\n",
    "print(\"Dizi13:\", dizi13)\n",
    "\n",
    "# 14- Üretilen dizinin elemanlarını tersten yazdırın.\n",
    "\n",
    "tersDizi13 = dizi13[::-1]\n",
    "print(\"Ters Dizi13:\", tersDizi13) #[::-1]: Bu ifade, diziyi tersten (sağdan sola) okuyarak yeni bir dizi oluşturuyor\n",
    "\n",
    "# 15- Üretilen matrisin ilk satırını seçiniz.\n",
    "\n",
    "ilkSatir = matris[0]\n",
    "print(\"İlk Satır:\", ilkSatir)\n",
    "\n",
    "# 16- Üretilen matrisin 2.satır 3.sütundaki elemanı hangisidir ?\n",
    "\n",
    "eleman_2_3 = matris[1, 2]\n",
    "print(\"2. Satır 3. Sütun Elemanı:\", eleman_2_3)\n",
    "\n",
    "# 17- Üretilen matrisin tüm satırlardaki ilk elemanı seçiniz.\n",
    "\n",
    "ilkElemanlar = matris[:, 0]\n",
    "print(\"İlk Elemanlar:\", ilkElemanlar)\n",
    "\n",
    "# 18- Üretilen matrisin her bir elemanının karesini alınız.\n",
    "\n",
    "matrisKaresi = np.square(matris)\n",
    "print(\"Matrisin Karesi:\\n\", matrisKaresi)\n",
    "\n",
    "# 19- Üretilen matris elemanlarının hangisi pozitif çift sayıdır ? Aralığı (-50,+50) arasında yapınız.\n",
    "\n",
    "matris2 = np.random.randint(-50, 51, (3, 5))\n",
    "pozitifCiftler = matris2[(matris2 > 0) & (matris2 % 2 == 0)]\n",
    "print(\"Pozitif Çift Sayılar:\", pozitifCiftler)"
   ]
  }
 ],
 "metadata": {
  "kernelspec": {
   "display_name": "Python 3",
   "language": "python",
   "name": "python3"
  },
  "language_info": {
   "codemirror_mode": {
    "name": "ipython",
    "version": 3
   },
   "file_extension": ".py",
   "mimetype": "text/x-python",
   "name": "python",
   "nbconvert_exporter": "python",
   "pygments_lexer": "ipython3",
   "version": "3.12.3"
  },
  "orig_nbformat": 4,
  "vscode": {
   "interpreter": {
    "hash": "5026d2d6e7aaaaba093def813beadff083d8733e4a511af01735cbabd156995d"
   }
  }
 },
 "nbformat": 4,
 "nbformat_minor": 2
}

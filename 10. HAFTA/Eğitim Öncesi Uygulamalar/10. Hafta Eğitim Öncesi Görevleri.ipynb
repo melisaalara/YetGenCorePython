{
 "cells": [
  {
   "attachments": {},
   "cell_type": "markdown",
   "metadata": {},
   "source": [
    "# Problem 1"
   ]
  },
  {
   "cell_type": "code",
   "execution_count": 32,
   "metadata": {},
   "outputs": [
    {
     "name": "stdout",
     "output_type": "stream",
     "text": [
      "Matris: [6 3 3 8 7]\n",
      "Matris boyutu: (5,)\n",
      "Yeniden boyutlandırılmış matris [[6]\n",
      " [3]\n",
      " [3]\n",
      " [8]\n",
      " [7]]\n",
      "Matris boyut sayısı: 2\n"
     ]
    }
   ],
   "source": [
    "# 1 - numpy kütüphanesini import edin\n",
    "\n",
    "import numpy as np\n",
    "\n",
    "# 2 - 0 ile 10 arasında 5 sayıdan oluşan matris üretin\n",
    "\n",
    "a= np.random.randint(0,10, size=5)\n",
    "print(\"Matris:\", a)\n",
    "\n",
    "# 3 - matris'in boyutunu öğrenin\n",
    "\n",
    "aBoyut = a.shape\n",
    "print(\"Matris boyutu:\", aBoyut)\n",
    "\n",
    "# 4 - matris'i yeniden boyutlandırın\n",
    "\n",
    "a=a.reshape(5,1)\n",
    "print(\"Yeniden boyutlandırılmış matris\", a)\n",
    "\n",
    "# 5 - matris'in boyut sayısını öğrenin\n",
    "\n",
    "b=a.ndim\n",
    "print(\"Matris boyut sayısı:\", b)\n"
   ]
  },
  {
   "attachments": {},
   "cell_type": "markdown",
   "metadata": {},
   "source": [
    "# Problem 2"
   ]
  },
  {
   "cell_type": "code",
   "execution_count": 33,
   "metadata": {},
   "outputs": [
    {
     "name": "stdout",
     "output_type": "stream",
     "text": [
      "Tek sayılar: [1 3 5 7 9]\n",
      "Parça 1: [1 3 5]\n",
      "Parça 2: [7 9]\n",
      "Birleştirilmiş hali [1 3 5 7 9]\n"
     ]
    }
   ],
   "source": [
    "import numpy as np\n",
    "# 1 - 0 ile 10 arasında bulunan tek sayılardan oluşan matris üretin\n",
    "\n",
    "a=np.arange(1,10,2)\n",
    "print(\"Tek sayılar:\", a)\n",
    "\n",
    "\n",
    "# 2 - Oluşturduğunuz matrisi parçalayın\n",
    "\n",
    "parca1, parca2 = np.array_split(a, 2)\n",
    "print(\"Parça 1:\", parca1)\n",
    "print(\"Parça 2:\", parca2)\n",
    "\n",
    "# 3 - Parçalanmış matrisleri birleştirin\n",
    "\n",
    "b=np.concatenate((parca1, parca2))\n",
    "print(\"Birleştirilmiş hali\", a)\n"
   ]
  },
  {
   "attachments": {},
   "cell_type": "markdown",
   "metadata": {},
   "source": [
    "# Problem 3"
   ]
  },
  {
   "cell_type": "code",
   "execution_count": 31,
   "metadata": {},
   "outputs": [
    {
     "name": "stdout",
     "output_type": "stream",
     "text": [
      "Matris: [79 87 45 51 61 57 91 17 25 35]\n",
      "Boyut: (10,)\n",
      "Boyut sayısı: 1\n",
      "Toplam eleman sayısı: 10\n"
     ]
    }
   ],
   "source": [
    "import numpy as np\n",
    "# 1 - 5 ile 100 arasında ikişer ikişer atlayarak rastgele 10 sayıdan oluşan matris üretin\n",
    "\n",
    "a= np.random.choice(np.arange(5,100,2),10, replace=False)\n",
    "print(\"Matris:\", a)\n",
    "\n",
    "# 2 - matris'in özelliklerini inceleyin\n",
    "\n",
    "print(\"Boyut:\", a.shape)\n",
    "print(\"Boyut sayısı:\", a.ndim)\n",
    "print(\"Toplam eleman sayısı:\", a.size)\n"
   ]
  }
 ],
 "metadata": {
  "kernelspec": {
   "display_name": "Python 3",
   "language": "python",
   "name": "python3"
  },
  "language_info": {
   "codemirror_mode": {
    "name": "ipython",
    "version": 3
   },
   "file_extension": ".py",
   "mimetype": "text/x-python",
   "name": "python",
   "nbconvert_exporter": "python",
   "pygments_lexer": "ipython3",
   "version": "3.12.3"
  },
  "orig_nbformat": 4,
  "vscode": {
   "interpreter": {
    "hash": "5026d2d6e7aaaaba093def813beadff083d8733e4a511af01735cbabd156995d"
   }
  }
 },
 "nbformat": 4,
 "nbformat_minor": 2
}
